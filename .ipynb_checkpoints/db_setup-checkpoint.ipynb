{
 "cells": [
  {
   "cell_type": "code",
   "execution_count": 27,
   "metadata": {},
   "outputs": [],
   "source": [
    "import mysql.connector\n",
    "import csv\n",
    "import os\n",
    "from mysql.connector import errorcode\n",
    "\n",
    "try:\n",
    "  cnx = mysql.connector.connect(user='test1', password='test1', database='pokedex')\n",
    "except mysql.connector.Error as err:\n",
    "  if err.errno == errorcode.ER_ACCESS_DENIED_ERROR:\n",
    "    print(\"Something is wrong with your user name or password\")\n",
    "  elif err.errno == errorcode.ER_BAD_DB_ERROR:\n",
    "    print(\"Database does not exist\")\n",
    "  else:\n",
    "    print(err)"
   ]
  },
  {
   "cell_type": "code",
   "execution_count": 28,
   "metadata": {},
   "outputs": [],
   "source": [
    "path = os.path.join(\".\", \"csv\")\n",
    "pokemon_path = os.path.join(path, \"pokemon.csv\")\n",
    "pokemon_type_path = os.path.join(path, \"pokemon_types.csv\")\n",
    "types_path = os.path.join(path, \"types.csv\")\n",
    "all_pokemon = {}\n",
    "pokemon_list = []\n",
    "pokemon_type_list = []\n",
    "types_list = []\n",
    "types_mapping = {}\n",
    "end_of_kalos = 722\n",
    "\n",
    "with open(pokemon_path, newline='') as csvfile:\n",
    "    spamreader = csv.reader(csvfile, delimiter=' ', quotechar='|')\n",
    "    pokemon_list = list(spamreader)[1:]\n",
    "with open(pokemon_type_path, newline='') as csvfile:\n",
    "    spamreader = csv.reader(csvfile, delimiter=' ', quotechar='|')\n",
    "    pokemon_type_list = list(spamreader)[1:]\n",
    "with open(types_path, newline='') as csvfile:\n",
    "    spamreader = csv.reader(csvfile, delimiter=' ', quotechar='|')\n",
    "    types_list = list(spamreader)[1:]\n",
    "for row in pokemon_list:\n",
    "    splitted = row[0].split(\",\")\n",
    "    entry = [int(splitted[0]), splitted[1]]\n",
    "    if int(splitted[0]) == end_of_kalos:\n",
    "        break\n",
    "    all_pokemon[int(splitted[0])] = entry\n",
    "for row in types_list:\n",
    "    splitted = row[0].split(\",\")\n",
    "    types_mapping[int(splitted[0])] = splitted[1]\n",
    "for row in pokemon_type_list:\n",
    "    splitted = row[0].split(\",\")\n",
    "    if int(splitted[0]) == end_of_kalos:\n",
    "        break\n",
    "    all_pokemon[int(splitted[0])].append(types_mapping[int(splitted[1])])"
   ]
  },
  {
   "cell_type": "code",
   "execution_count": 29,
   "metadata": {},
   "outputs": [],
   "source": [
    "cursor = cnx.cursor()\n",
    "cursor.execute(\"DROP TABLE IF EXISTS pokemon;\")\n",
    "cursor.execute('CREATE TABLE `pokemon` (`ID` int(11) NOT NULL AUTO_INCREMENT,`Name` varchar(100) DEFAULT NULL,`Type_1` varchar(100) DEFAULT NULL,`Type_2` varchar(100) DEFAULT NULL,PRIMARY KEY (`ID`)) ENGINE=InnoDB AUTO_INCREMENT=722 DEFAULT CHARSET=utf8;')\n",
    "insert_query = (\"INSERT INTO pokemon \" \"(Name, Type_1, Type_2)\" \"VALUES (%s, %s, %s)\")\n",
    "for _, val in all_pokemon.items():\n",
    "    if len(val) == 3:\n",
    "        data = (val[1], val[2], None)\n",
    "    elif len(val) == 4:\n",
    "        data = (val[1], val[2], val[3])\n",
    "    cursor.execute(insert_query, data)\n",
    "cnx.commit()"
   ]
  },
  {
   "cell_type": "code",
   "execution_count": 30,
   "metadata": {},
   "outputs": [],
   "source": [
    "cursor.close()\n",
    "cnx.close()"
   ]
  },
  {
   "cell_type": "code",
   "execution_count": 10,
   "metadata": {},
   "outputs": [
    {
     "name": "stdout",
     "output_type": "stream",
     "text": [
      "<option value=\"normal\">normal</option>\n",
      "<option value=\"fighting\">fighting</option>\n",
      "<option value=\"flying\">flying</option>\n",
      "<option value=\"poison\">poison</option>\n",
      "<option value=\"ground\">ground</option>\n",
      "<option value=\"rock\">rock</option>\n",
      "<option value=\"bug\">bug</option>\n",
      "<option value=\"ghost\">ghost</option>\n",
      "<option value=\"steel\">steel</option>\n",
      "<option value=\"fire\">fire</option>\n",
      "<option value=\"water\">water</option>\n",
      "<option value=\"grass\">grass</option>\n",
      "<option value=\"electric\">electric</option>\n",
      "<option value=\"psychic\">psychic</option>\n",
      "<option value=\"ice\">ice</option>\n",
      "<option value=\"dragon\">dragon</option>\n",
      "<option value=\"dark\">dark</option>\n",
      "<option value=\"fairy\">fairy</option>\n",
      "<option value=\"unknown\">unknown</option>\n",
      "<option value=\"shadow\">shadow</option>\n"
     ]
    }
   ],
   "source": [
    "if __name__==\"__main__\":\n",
    "    app.run(debug=False)"
   ]
  },
  {
   "cell_type": "code",
   "execution_count": null,
   "metadata": {},
   "outputs": [],
   "source": []
  }
 ],
 "metadata": {
  "kernelspec": {
   "display_name": "Python 3",
   "language": "python",
   "name": "python3"
  },
  "language_info": {
   "codemirror_mode": {
    "name": "ipython",
    "version": 3
   },
   "file_extension": ".py",
   "mimetype": "text/x-python",
   "name": "python",
   "nbconvert_exporter": "python",
   "pygments_lexer": "ipython3",
   "version": "3.7.4"
  }
 },
 "nbformat": 4,
 "nbformat_minor": 2
}
